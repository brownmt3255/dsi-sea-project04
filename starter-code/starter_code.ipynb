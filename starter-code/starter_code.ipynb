{
 "cells": [
  {
   "cell_type": "markdown",
   "metadata": {
    "button": false,
    "deletable": true,
    "focus": false,
    "id": "69b9a648-bcc7-490d-9f9b-ea244d156bd6",
    "new_sheet": false,
    "run_control": {
     "read_only": false
    }
   },
   "source": [
    "# Web Scraping & Predicting"
   ]
  },
  {
   "cell_type": "markdown",
   "metadata": {
    "button": false,
    "deletable": true,
    "focus": false,
    "id": "34681254-c802-462f-829d-8894d0772d08",
    "new_sheet": false,
    "run_control": {
     "read_only": false
    }
   },
   "source": [
    "In this project, we will practice two major skills. Collecting data by scraping a website and building a binary predictor with Logistic Regression."
   ]
  },
  {
   "cell_type": "code",
   "execution_count": 497,
   "metadata": {
    "collapsed": false
   },
   "outputs": [
    {
     "name": "stdout",
     "output_type": "stream",
     "text": [
      "Blog Post: http://mattbrownblog.tumblr.com/post/152602828599/learning-to-code-part-3-categorical\n"
     ]
    }
   ],
   "source": [
    "print \"Blog Post: http://mattbrownblog.tumblr.com/post/152602828599/learning-to-code-part-3-categorical\""
   ]
  },
  {
   "cell_type": "markdown",
   "metadata": {
    "button": false,
    "deletable": true,
    "focus": false,
    "id": "a948d79c-5527-4c0d-ab23-f5d43ce72056",
    "new_sheet": false,
    "run_control": {
     "read_only": false
    }
   },
   "source": [
    "### Step 1: Scrape your site"
   ]
  },
  {
   "cell_type": "markdown",
   "metadata": {
    "button": false,
    "deletable": true,
    "focus": true,
    "id": "7203e0c9-e437-4802-a6ad-7dc464f94436",
    "new_sheet": false,
    "run_control": {
     "read_only": false
    }
   },
   "source": [
    "We will be scraping your website using BeautifulSoup. Write your code below."
   ]
  },
  {
   "cell_type": "code",
   "execution_count": 7,
   "metadata": {
    "button": false,
    "collapsed": false,
    "deletable": true,
    "focus": false,
    "id": "2efefc73-064a-482d-b3b5-ddf5508cb4ec",
    "new_sheet": false,
    "run_control": {
     "read_only": false
    }
   },
   "outputs": [],
   "source": [
    "# Import Packages\n",
    "import numpy as np\n",
    "import pandas as pd\n",
    "import patsy\n",
    "import time \n",
    "import requests\n",
    "import ast\n",
    "import string\n",
    "import dateutil.parser\n",
    "\n",
    "\n",
    "from sklearn.metrics import classification_report, confusion_matrix, accuracy_score\n",
    "from sklearn.cross_validation import train_test_split\n",
    "from sklearn.linear_model import LogisticRegression, LogisticRegressionCV\n",
    "from sklearn.grid_search import GridSearchCV\n",
    "\n",
    "import urllib2\n",
    "from bs4 import BeautifulSoup\n",
    "import json\n",
    "\n",
    "API_KEY = 'a09fab6dcce04187a3a382da086e4f7a'"
   ]
  },
  {
   "cell_type": "markdown",
   "metadata": {
    "button": false,
    "deletable": true,
    "focus": false,
    "id": "f1eddb90-4ba8-483c-a229-77e93aa53119",
    "new_sheet": false,
    "run_control": {
     "read_only": false
    }
   },
   "source": [
    "### Write functions to extract the features you think correlate well with your dataset. You MUST have at least 4 features!\n",
    "\n",
    "- **Make sure these functions are robust and can handle cases where fields may not be available.**\n",
    "    - Remember to check if a field is empty or `None` for attempting to call methods on it\n",
    "    - Remember to use `try/except` if you anticipate errors\n",
    "- **Test** the functions on the results above and simple examples"
   ]
  },
  {
   "cell_type": "code",
   "execution_count": 8,
   "metadata": {
    "collapsed": false
   },
   "outputs": [],
   "source": [
    "# Load APIs\n",
    "\n",
    "headers = {'Ocp-Apim-Subscription-Key': API_KEY}\n",
    "\n",
    "# MAPs API + DataFrame\n",
    "url4 = 'https://www.haloapi.com/metadata/h5/metadata/maps'\n",
    "response4 = requests.get(url4, params=None, headers=headers)\n",
    "Maps_JSON = json.loads(response4.text)\n",
    "\n",
    "maps_df = pd.DataFrame(Maps_JSON)\n",
    "maps_df_2 = maps_df.loc[:, ['id', 'name']]\n",
    "maps_df_2.columns = ['id','Map_Name']\n",
    "\n",
    "# Match Stats API\n",
    "url2 = 'https://www.haloapi.com/stats/h5/arena/matches/37fe79e7-befe-4c9b-acee-c05eb6562f8b'\n",
    "response2 = requests.get(url2, params=None, headers=headers)\n",
    "match_stats_JSON = json.loads(response2.text)\n",
    "\n",
    "# Leaderboards API\n",
    "url3 = 'https://www.haloapi.com/stats/h5/player-leaderboards/csr/8c7d848f-1437-4ce1-8e6a-f41850075d01/892189e9-d712-4bdb-afa7-1ccab43fbed4?count=50'\n",
    "response3 = requests.get(url3, params=None, headers=headers)\n",
    "\n",
    "Leaderboards_JSON = json.loads(response3.text)"
   ]
  },
  {
   "cell_type": "code",
   "execution_count": 4,
   "metadata": {
    "collapsed": true
   },
   "outputs": [],
   "source": [
    "# Create Function that calls API and builds dataframe\n",
    "\n",
    "def load_data(start):\n",
    "    \n",
    "    url = 'https://www.haloapi.com/stats/h5/players/madballa55/matches?modes=arena&start={}'.format(start)\n",
    "    headers = {'Ocp-Apim-Subscription-Key': API_KEY}\n",
    "    response = requests.get(url, params=None, headers=headers)\n",
    "\n",
    "    match_history_JSON = json.loads(response.text)\n",
    "\n",
    "    # Create Empty Dictionary for DataFrame\n",
    "    dicty_df = []\n",
    "\n",
    "\n",
    "    # Fill in columns with JSON data\n",
    "    for a in match_history_JSON['Results']:\n",
    "        dicty_df+=[{\n",
    "         'Match_ID' : a['Id']['MatchId'], \n",
    "         'Kills': a['Players'][0]['TotalKills'],\n",
    "         'Deaths': a['Players'][0]['TotalDeaths'],\n",
    "         'Assists': a['Players'][0]['TotalAssists'],\n",
    "         'Individual_Rank': a['Players'][0]['Rank'],\n",
    "         'Win_Loss': a['Players'][0]['Result'],\n",
    "         'Team_ID': a['Players'][0]['TeamId'],\n",
    "         'Map_ID': a['MapId'],\n",
    "         'Match_Duration': a['MatchDuration'],\n",
    "         'Match_Date': dateutil.parser.parse(a['MatchCompletedDate']['ISO8601Date']),\n",
    "         'Gamertag': a['Players'][0]['Player']['Gamertag'],\n",
    "         'Score_1': a['Teams'][0]['Score'],\n",
    "         'Score_2': a['Teams'][1]['Score'],          \n",
    "        }]\n",
    "\n",
    "\n",
    "    # Create dictionary\n",
    "    df = pd.DataFrame(dicty_df)\n",
    "\n",
    "    # Merging Map Name into df\n",
    "    df = pd.merge(maps_df_2, df, how='inner', left_on='id', right_on='Map_ID')\n",
    "\n",
    "    return df"
   ]
  },
  {
   "cell_type": "code",
   "execution_count": 9,
   "metadata": {
    "collapsed": false
   },
   "outputs": [],
   "source": [
    "# Create Master DataFrame that API's will append onto\n",
    "master_df = load_data(0)\n",
    "\n",
    "# Create loop that appends more data onto master_df\n",
    "for x in range(26,1500,26):\n",
    "    master_df = master_df.append(load_data(x))\n",
    "    time.sleep(5)"
   ]
  },
  {
   "cell_type": "code",
   "execution_count": 10,
   "metadata": {
    "collapsed": false
   },
   "outputs": [
    {
     "name": "stdout",
     "output_type": "stream",
     "text": [
      "1450\n"
     ]
    },
    {
     "data": {
      "text/html": [
       "<div>\n",
       "<table border=\"1\" class=\"dataframe\">\n",
       "  <thead>\n",
       "    <tr style=\"text-align: right;\">\n",
       "      <th></th>\n",
       "      <th>id</th>\n",
       "      <th>Map_Name</th>\n",
       "      <th>Assists</th>\n",
       "      <th>Deaths</th>\n",
       "      <th>Gamertag</th>\n",
       "      <th>Individual_Rank</th>\n",
       "      <th>Kills</th>\n",
       "      <th>Map_ID</th>\n",
       "      <th>Match_Date</th>\n",
       "      <th>Match_Duration</th>\n",
       "      <th>Match_ID</th>\n",
       "      <th>Score_1</th>\n",
       "      <th>Score_2</th>\n",
       "      <th>Team_ID</th>\n",
       "      <th>Win_Loss</th>\n",
       "    </tr>\n",
       "  </thead>\n",
       "  <tbody>\n",
       "    <tr>\n",
       "      <th>0</th>\n",
       "      <td>cd844200-f206-11e4-9393-24be05e24f7e</td>\n",
       "      <td>Eden</td>\n",
       "      <td>3</td>\n",
       "      <td>13</td>\n",
       "      <td>madballa55</td>\n",
       "      <td>5</td>\n",
       "      <td>13</td>\n",
       "      <td>cd844200-f206-11e4-9393-24be05e24f7e</td>\n",
       "      <td>2016-11-02 00:00:00+00:00</td>\n",
       "      <td>PT8M54.0574175S</td>\n",
       "      <td>a8d97d82-56b4-4cae-9063-8efbf6ab4959</td>\n",
       "      <td>50</td>\n",
       "      <td>47</td>\n",
       "      <td>0</td>\n",
       "      <td>1</td>\n",
       "    </tr>\n",
       "    <tr>\n",
       "      <th>1</th>\n",
       "      <td>cd844200-f206-11e4-9393-24be05e24f7e</td>\n",
       "      <td>Eden</td>\n",
       "      <td>9</td>\n",
       "      <td>7</td>\n",
       "      <td>madballa55</td>\n",
       "      <td>4</td>\n",
       "      <td>7</td>\n",
       "      <td>cd844200-f206-11e4-9393-24be05e24f7e</td>\n",
       "      <td>2016-10-27 00:00:00+00:00</td>\n",
       "      <td>PT8M53.1322373S</td>\n",
       "      <td>37fe79e7-befe-4c9b-acee-c05eb6562f8b</td>\n",
       "      <td>38</td>\n",
       "      <td>50</td>\n",
       "      <td>1</td>\n",
       "      <td>3</td>\n",
       "    </tr>\n",
       "    <tr>\n",
       "      <th>2</th>\n",
       "      <td>cd844200-f206-11e4-9393-24be05e24f7e</td>\n",
       "      <td>Eden</td>\n",
       "      <td>7</td>\n",
       "      <td>9</td>\n",
       "      <td>madballa55</td>\n",
       "      <td>3</td>\n",
       "      <td>15</td>\n",
       "      <td>cd844200-f206-11e4-9393-24be05e24f7e</td>\n",
       "      <td>2016-10-23 00:00:00+00:00</td>\n",
       "      <td>PT9M32.0536273S</td>\n",
       "      <td>1d18f01d-e95c-41d5-be96-602ade5082b2</td>\n",
       "      <td>50</td>\n",
       "      <td>35</td>\n",
       "      <td>0</td>\n",
       "      <td>3</td>\n",
       "    </tr>\n",
       "    <tr>\n",
       "      <th>3</th>\n",
       "      <td>cc040aa1-f206-11e4-a3e0-24be05e24f7e</td>\n",
       "      <td>Fathom</td>\n",
       "      <td>6</td>\n",
       "      <td>13</td>\n",
       "      <td>madballa55</td>\n",
       "      <td>3</td>\n",
       "      <td>12</td>\n",
       "      <td>cc040aa1-f206-11e4-a3e0-24be05e24f7e</td>\n",
       "      <td>2016-11-01 00:00:00+00:00</td>\n",
       "      <td>PT10M1.089307S</td>\n",
       "      <td>c6410af3-3f5b-4b5c-8955-695800db8730</td>\n",
       "      <td>49</td>\n",
       "      <td>50</td>\n",
       "      <td>0</td>\n",
       "      <td>3</td>\n",
       "    </tr>\n",
       "    <tr>\n",
       "      <th>4</th>\n",
       "      <td>cc040aa1-f206-11e4-a3e0-24be05e24f7e</td>\n",
       "      <td>Fathom</td>\n",
       "      <td>7</td>\n",
       "      <td>12</td>\n",
       "      <td>madballa55</td>\n",
       "      <td>1</td>\n",
       "      <td>17</td>\n",
       "      <td>cc040aa1-f206-11e4-a3e0-24be05e24f7e</td>\n",
       "      <td>2016-10-23 00:00:00+00:00</td>\n",
       "      <td>PT9M6.4294104S</td>\n",
       "      <td>af4b244f-010a-4293-8a86-f65a1499ffe8</td>\n",
       "      <td>50</td>\n",
       "      <td>45</td>\n",
       "      <td>0</td>\n",
       "      <td>3</td>\n",
       "    </tr>\n",
       "  </tbody>\n",
       "</table>\n",
       "</div>"
      ],
      "text/plain": [
       "                                     id Map_Name  Assists  Deaths    Gamertag  \\\n",
       "0  cd844200-f206-11e4-9393-24be05e24f7e     Eden        3      13  madballa55   \n",
       "1  cd844200-f206-11e4-9393-24be05e24f7e     Eden        9       7  madballa55   \n",
       "2  cd844200-f206-11e4-9393-24be05e24f7e     Eden        7       9  madballa55   \n",
       "3  cc040aa1-f206-11e4-a3e0-24be05e24f7e   Fathom        6      13  madballa55   \n",
       "4  cc040aa1-f206-11e4-a3e0-24be05e24f7e   Fathom        7      12  madballa55   \n",
       "\n",
       "   Individual_Rank  Kills                                Map_ID  \\\n",
       "0                5     13  cd844200-f206-11e4-9393-24be05e24f7e   \n",
       "1                4      7  cd844200-f206-11e4-9393-24be05e24f7e   \n",
       "2                3     15  cd844200-f206-11e4-9393-24be05e24f7e   \n",
       "3                3     12  cc040aa1-f206-11e4-a3e0-24be05e24f7e   \n",
       "4                1     17  cc040aa1-f206-11e4-a3e0-24be05e24f7e   \n",
       "\n",
       "                 Match_Date   Match_Duration  \\\n",
       "0 2016-11-02 00:00:00+00:00  PT8M54.0574175S   \n",
       "1 2016-10-27 00:00:00+00:00  PT8M53.1322373S   \n",
       "2 2016-10-23 00:00:00+00:00  PT9M32.0536273S   \n",
       "3 2016-11-01 00:00:00+00:00   PT10M1.089307S   \n",
       "4 2016-10-23 00:00:00+00:00   PT9M6.4294104S   \n",
       "\n",
       "                               Match_ID  Score_1  Score_2  Team_ID  Win_Loss  \n",
       "0  a8d97d82-56b4-4cae-9063-8efbf6ab4959       50       47        0         1  \n",
       "1  37fe79e7-befe-4c9b-acee-c05eb6562f8b       38       50        1         3  \n",
       "2  1d18f01d-e95c-41d5-be96-602ade5082b2       50       35        0         3  \n",
       "3  c6410af3-3f5b-4b5c-8955-695800db8730       49       50        0         3  \n",
       "4  af4b244f-010a-4293-8a86-f65a1499ffe8       50       45        0         3  "
      ]
     },
     "execution_count": 10,
     "metadata": {},
     "output_type": "execute_result"
    }
   ],
   "source": [
    "# Make sure there is 1K+ rows\n",
    "print len(master_df)\n",
    "\n",
    "master_df.head()"
   ]
  },
  {
   "cell_type": "markdown",
   "metadata": {
    "button": false,
    "deletable": true,
    "focus": false,
    "id": "34070e89-9521-4b45-90c8-57a6599aac68",
    "new_sheet": false,
    "run_control": {
     "read_only": false
    }
   },
   "source": [
    "### Make sure you have at least 1000 rows before continuing."
   ]
  },
  {
   "cell_type": "markdown",
   "metadata": {
    "button": false,
    "deletable": true,
    "focus": false,
    "id": "e8beed7c-3e42-40c0-810f-5f67f8f885a0",
    "new_sheet": false,
    "run_control": {
     "read_only": false
    }
   },
   "source": [
    "#### Clean up / standardize your data here\n",
    "\n",
    "- Dates converted to correct format\n",
    "- Remove dollar signs, spaces, periods\n",
    "- etc"
   ]
  },
  {
   "cell_type": "code",
   "execution_count": 11,
   "metadata": {
    "collapsed": false,
    "run_control": {}
   },
   "outputs": [
    {
     "name": "stdout",
     "output_type": "stream",
     "text": [
      "<class 'pandas.core.frame.DataFrame'>\n",
      "Int64Index: 1450 entries, 0 to 24\n",
      "Data columns (total 15 columns):\n",
      "id                 1450 non-null object\n",
      "Map_Name           1450 non-null object\n",
      "Assists            1450 non-null int64\n",
      "Deaths             1450 non-null int64\n",
      "Gamertag           1450 non-null object\n",
      "Individual_Rank    1450 non-null int64\n",
      "Kills              1450 non-null int64\n",
      "Map_ID             1450 non-null object\n",
      "Match_Date         1450 non-null datetime64[ns, UTC]\n",
      "Match_Duration     1450 non-null object\n",
      "Match_ID           1450 non-null object\n",
      "Score_1            1450 non-null int64\n",
      "Score_2            1450 non-null int64\n",
      "Team_ID            1450 non-null int64\n",
      "Win_Loss           1450 non-null int64\n",
      "dtypes: datetime64[ns, UTC](1), int64(8), object(6)\n",
      "memory usage: 181.2+ KB\n"
     ]
    }
   ],
   "source": [
    "# Turn columns into int, float, dates.\n",
    "master_df.Kills = master_df.Kills.astype(int)\n",
    "master_df.Deaths = master_df.Deaths.astype(int)\n",
    "master_df.Assists = master_df.Assists.astype(int)\n",
    "master_df.Individual_Rank = master_df.Individual_Rank.astype(int)\n",
    "master_df.Win_Loss = master_df.Win_Loss.astype(int)\n",
    "master_df.Score_1 = master_df.Score_1.astype(int)\n",
    "master_df.Score_2 = master_df.Score_2.astype(int)\n",
    "\n",
    "\n",
    "master_df.info()"
   ]
  },
  {
   "cell_type": "markdown",
   "metadata": {
    "button": false,
    "deletable": true,
    "focus": false,
    "id": "20339c09-5032-4e27-91be-286e9b46cd13",
    "new_sheet": false,
    "run_control": {
     "read_only": false
    }
   },
   "source": [
    "### Create a dataframe to compile the results of your data cleaning."
   ]
  },
  {
   "cell_type": "code",
   "execution_count": 544,
   "metadata": {
    "button": false,
    "collapsed": false,
    "deletable": true,
    "focus": false,
    "id": "6e259594-1c52-436b-ab9e-527e071941c1",
    "new_sheet": false,
    "run_control": {
     "read_only": false
    }
   },
   "outputs": [
    {
     "data": {
      "text/html": [
       "<div>\n",
       "<table border=\"1\" class=\"dataframe\">\n",
       "  <thead>\n",
       "    <tr style=\"text-align: right;\">\n",
       "      <th></th>\n",
       "      <th>id</th>\n",
       "      <th>Map_Name</th>\n",
       "      <th>Assists</th>\n",
       "      <th>Deaths</th>\n",
       "      <th>Gamertag</th>\n",
       "      <th>Individual_Rank</th>\n",
       "      <th>Kills</th>\n",
       "      <th>Map_ID</th>\n",
       "      <th>Match_Date</th>\n",
       "      <th>Match_Duration</th>\n",
       "      <th>Match_ID</th>\n",
       "      <th>Score_1</th>\n",
       "      <th>Score_2</th>\n",
       "      <th>Team_ID</th>\n",
       "      <th>Win_Loss</th>\n",
       "    </tr>\n",
       "  </thead>\n",
       "  <tbody>\n",
       "    <tr>\n",
       "      <th>0</th>\n",
       "      <td>cd844200-f206-11e4-9393-24be05e24f7e</td>\n",
       "      <td>Eden</td>\n",
       "      <td>9</td>\n",
       "      <td>7</td>\n",
       "      <td>madballa55</td>\n",
       "      <td>4</td>\n",
       "      <td>7</td>\n",
       "      <td>cd844200-f206-11e4-9393-24be05e24f7e</td>\n",
       "      <td>2016-10-27 00:00:00+00:00</td>\n",
       "      <td>PT8M53.1322373S</td>\n",
       "      <td>37fe79e7-befe-4c9b-acee-c05eb6562f8b</td>\n",
       "      <td>38</td>\n",
       "      <td>50</td>\n",
       "      <td>1</td>\n",
       "      <td>3</td>\n",
       "    </tr>\n",
       "    <tr>\n",
       "      <th>1</th>\n",
       "      <td>cd844200-f206-11e4-9393-24be05e24f7e</td>\n",
       "      <td>Eden</td>\n",
       "      <td>7</td>\n",
       "      <td>9</td>\n",
       "      <td>madballa55</td>\n",
       "      <td>3</td>\n",
       "      <td>15</td>\n",
       "      <td>cd844200-f206-11e4-9393-24be05e24f7e</td>\n",
       "      <td>2016-10-23 00:00:00+00:00</td>\n",
       "      <td>PT9M32.0536273S</td>\n",
       "      <td>1d18f01d-e95c-41d5-be96-602ade5082b2</td>\n",
       "      <td>50</td>\n",
       "      <td>35</td>\n",
       "      <td>0</td>\n",
       "      <td>3</td>\n",
       "    </tr>\n",
       "    <tr>\n",
       "      <th>2</th>\n",
       "      <td>cdb934b0-f206-11e4-8810-24be05e24f7e</td>\n",
       "      <td>Empire</td>\n",
       "      <td>0</td>\n",
       "      <td>3</td>\n",
       "      <td>madballa55</td>\n",
       "      <td>7</td>\n",
       "      <td>0</td>\n",
       "      <td>cdb934b0-f206-11e4-8810-24be05e24f7e</td>\n",
       "      <td>2016-10-22 00:00:00+00:00</td>\n",
       "      <td>PT9M28.2209101S</td>\n",
       "      <td>0e39ef33-efcc-45b1-811f-9ee4cdde8011</td>\n",
       "      <td>33</td>\n",
       "      <td>50</td>\n",
       "      <td>0</td>\n",
       "      <td>0</td>\n",
       "    </tr>\n",
       "    <tr>\n",
       "      <th>3</th>\n",
       "      <td>cc040aa1-f206-11e4-a3e0-24be05e24f7e</td>\n",
       "      <td>Fathom</td>\n",
       "      <td>6</td>\n",
       "      <td>13</td>\n",
       "      <td>madballa55</td>\n",
       "      <td>3</td>\n",
       "      <td>12</td>\n",
       "      <td>cc040aa1-f206-11e4-a3e0-24be05e24f7e</td>\n",
       "      <td>2016-11-01 00:00:00+00:00</td>\n",
       "      <td>PT10M1.089307S</td>\n",
       "      <td>c6410af3-3f5b-4b5c-8955-695800db8730</td>\n",
       "      <td>49</td>\n",
       "      <td>50</td>\n",
       "      <td>0</td>\n",
       "      <td>3</td>\n",
       "    </tr>\n",
       "    <tr>\n",
       "      <th>4</th>\n",
       "      <td>cc040aa1-f206-11e4-a3e0-24be05e24f7e</td>\n",
       "      <td>Fathom</td>\n",
       "      <td>7</td>\n",
       "      <td>12</td>\n",
       "      <td>madballa55</td>\n",
       "      <td>1</td>\n",
       "      <td>17</td>\n",
       "      <td>cc040aa1-f206-11e4-a3e0-24be05e24f7e</td>\n",
       "      <td>2016-10-23 00:00:00+00:00</td>\n",
       "      <td>PT9M6.4294104S</td>\n",
       "      <td>af4b244f-010a-4293-8a86-f65a1499ffe8</td>\n",
       "      <td>50</td>\n",
       "      <td>45</td>\n",
       "      <td>0</td>\n",
       "      <td>3</td>\n",
       "    </tr>\n",
       "  </tbody>\n",
       "</table>\n",
       "</div>"
      ],
      "text/plain": [
       "                                     id Map_Name  Assists  Deaths    Gamertag  \\\n",
       "0  cd844200-f206-11e4-9393-24be05e24f7e     Eden        9       7  madballa55   \n",
       "1  cd844200-f206-11e4-9393-24be05e24f7e     Eden        7       9  madballa55   \n",
       "2  cdb934b0-f206-11e4-8810-24be05e24f7e   Empire        0       3  madballa55   \n",
       "3  cc040aa1-f206-11e4-a3e0-24be05e24f7e   Fathom        6      13  madballa55   \n",
       "4  cc040aa1-f206-11e4-a3e0-24be05e24f7e   Fathom        7      12  madballa55   \n",
       "\n",
       "   Individual_Rank  Kills                                Map_ID  \\\n",
       "0                4      7  cd844200-f206-11e4-9393-24be05e24f7e   \n",
       "1                3     15  cd844200-f206-11e4-9393-24be05e24f7e   \n",
       "2                7      0  cdb934b0-f206-11e4-8810-24be05e24f7e   \n",
       "3                3     12  cc040aa1-f206-11e4-a3e0-24be05e24f7e   \n",
       "4                1     17  cc040aa1-f206-11e4-a3e0-24be05e24f7e   \n",
       "\n",
       "                 Match_Date   Match_Duration  \\\n",
       "0 2016-10-27 00:00:00+00:00  PT8M53.1322373S   \n",
       "1 2016-10-23 00:00:00+00:00  PT9M32.0536273S   \n",
       "2 2016-10-22 00:00:00+00:00  PT9M28.2209101S   \n",
       "3 2016-11-01 00:00:00+00:00   PT10M1.089307S   \n",
       "4 2016-10-23 00:00:00+00:00   PT9M6.4294104S   \n",
       "\n",
       "                               Match_ID  Score_1  Score_2  Team_ID  Win_Loss  \n",
       "0  37fe79e7-befe-4c9b-acee-c05eb6562f8b       38       50        1         3  \n",
       "1  1d18f01d-e95c-41d5-be96-602ade5082b2       50       35        0         3  \n",
       "2  0e39ef33-efcc-45b1-811f-9ee4cdde8011       33       50        0         0  \n",
       "3  c6410af3-3f5b-4b5c-8955-695800db8730       49       50        0         3  \n",
       "4  af4b244f-010a-4293-8a86-f65a1499ffe8       50       45        0         3  "
      ]
     },
     "execution_count": 544,
     "metadata": {},
     "output_type": "execute_result"
    }
   ],
   "source": [
    "## YOUR CODE HERE\n",
    "\n",
    "master_df.head()"
   ]
  },
  {
   "cell_type": "markdown",
   "metadata": {
    "button": false,
    "deletable": true,
    "focus": false,
    "id": "ff98ce64-78a7-441f-a675-63464e32c834",
    "new_sheet": false,
    "run_control": {
     "read_only": false
    }
   },
   "source": [
    "### Fill all the empty values with the column means or remove the rows from your table depending on your circumstances"
   ]
  },
  {
   "cell_type": "code",
   "execution_count": 281,
   "metadata": {
    "button": false,
    "collapsed": false,
    "deletable": true,
    "focus": false,
    "id": "58533e57-f86b-494a-b841-e7b59c6229c6",
    "new_sheet": false,
    "run_control": {
     "read_only": false
    }
   },
   "outputs": [
    {
     "name": "stdout",
     "output_type": "stream",
     "text": [
      "No empty column values exist\n"
     ]
    }
   ],
   "source": [
    "## YOUR CODE HERE\n",
    "\n",
    "print('No empty column values exist')"
   ]
  },
  {
   "cell_type": "markdown",
   "metadata": {
    "button": false,
    "collapsed": false,
    "deletable": true,
    "focus": false,
    "id": "43e71edd-210e-42b1-9336-70a931f048af",
    "new_sheet": false,
    "run_control": {
     "read_only": false
    }
   },
   "source": [
    "### Save your results as a CSV"
   ]
  },
  {
   "cell_type": "code",
   "execution_count": 14,
   "metadata": {
    "button": false,
    "collapsed": false,
    "deletable": true,
    "focus": false,
    "id": "783fd153-28ac-47ab-bfca-27e7c1de95b4",
    "new_sheet": false,
    "run_control": {
     "read_only": false
    }
   },
   "outputs": [],
   "source": [
    "## YOUR CODE HERE\n",
    "\n",
    "# Creating binary win/lose columns before exporting.\n",
    "master_df.loc[master_df['Win_Loss'] > 1 , 'Win_Loss_Binary'] = 1\n",
    "master_df.loc[master_df['Win_Loss'] < 3 , 'Win_Loss_Binary'] = 0\n",
    "\n",
    "#master_df.insert(4,'KD_Spread', master_df.Kills - master_df.Deaths, allow_duplicates=False)\n",
    "master_df.to_csv('./../assets/Halo_Data.csv', sep=',', encoding='utf-8')"
   ]
  },
  {
   "cell_type": "markdown",
   "metadata": {
    "button": false,
    "deletable": true,
    "focus": false,
    "id": "04563b69-f7b6-466f-9d65-fc62c9ddee6a",
    "new_sheet": false,
    "run_control": {
     "read_only": false
    }
   },
   "source": [
    "## Predicting win/loss using Logistic Regression"
   ]
  },
  {
   "cell_type": "markdown",
   "metadata": {
    "button": false,
    "deletable": true,
    "focus": false,
    "id": "c7631f51-07f2-4c79-a093-3e9bc7849a48",
    "new_sheet": false,
    "run_control": {
     "read_only": false
    }
   },
   "source": [
    "### We want to predict whether the target was in a range or not with a binary variable. Create binary variables for some of your non-binary features, so we can draw correlations. See the logisitic regression lab if you are having trouble understanding the instructions. "
   ]
  },
  {
   "cell_type": "code",
   "execution_count": 15,
   "metadata": {
    "button": false,
    "collapsed": false,
    "deletable": true,
    "focus": false,
    "id": "c20d2498-151c-44c3-a453-3a333c79a0ac",
    "new_sheet": false,
    "run_control": {
     "read_only": false
    }
   },
   "outputs": [
    {
     "name": "stdout",
     "output_type": "stream",
     "text": [
      "1450\n"
     ]
    }
   ],
   "source": [
    "# Create Column For KD_Spread\n",
    "master_df.insert(4,'KD_Spread', master_df.Kills - master_df.Deaths, allow_duplicates=False)\n",
    "\n",
    "# More than average variables\n",
    "master_df.loc[master_df['Assists'] > np.mean(master_df.Assists) , 'Assists_>_Mean'] = 1\n",
    "master_df.loc[master_df['Deaths'] < np.mean(master_df.Deaths) , 'Deaths_<_Mean'] = 1\n",
    "master_df.loc[master_df['Kills'] > np.mean(master_df.Kills) , 'Kills_>_Mean'] = 1\n",
    "master_df.loc[master_df['KD_Spread'] > np.mean(master_df.KD_Spread) , 'KD_Spread_>_Mean'] = 1\n",
    "\n",
    "master_df.fillna(0, inplace = True)\n",
    "\n",
    "master_df.head()\n",
    "\n",
    "print len(master_df)"
   ]
  },
  {
   "cell_type": "markdown",
   "metadata": {
    "button": false,
    "deletable": true,
    "focus": false,
    "id": "a7afb2c0-d41e-4779-8216-91cd8dd4473f",
    "new_sheet": false,
    "run_control": {
     "read_only": false
    }
   },
   "source": [
    "### Thought experiment: What is the baseline accuracy for this model?"
   ]
  },
  {
   "cell_type": "code",
   "execution_count": 18,
   "metadata": {
    "button": false,
    "collapsed": false,
    "deletable": true,
    "focus": false,
    "id": "87a17d3d-b7f4-4747-9f75-f9af1d18a174",
    "new_sheet": false,
    "run_control": {
     "read_only": false
    }
   },
   "outputs": [
    {
     "name": "stdout",
     "output_type": "stream",
     "text": [
      "0.491724137931\n"
     ]
    }
   ],
   "source": [
    "## YOUR CODE HERE\n",
    "\n",
    "print (sum(master_df['Win_Loss_Binary'])/len(master_df))\n"
   ]
  },
  {
   "cell_type": "markdown",
   "metadata": {
    "button": false,
    "deletable": true,
    "focus": false,
    "id": "4fb29de2-5b98-474c-a4ad-5170b72b9aea",
    "new_sheet": false,
    "run_control": {
     "read_only": false
    }
   },
   "source": [
    "### Create a Logistic Regression model to predict your target using statsmodel. Start by ONLY using one feature. Display the coefficients and write a short summary of what each feature means."
   ]
  },
  {
   "cell_type": "code",
   "execution_count": 19,
   "metadata": {
    "button": false,
    "collapsed": false,
    "deletable": true,
    "focus": false,
    "id": "ddbc6159-6854-4ca7-857f-bfecdaf6d9c2",
    "new_sheet": false,
    "run_control": {
     "read_only": false
    }
   },
   "outputs": [
    {
     "name": "stdout",
     "output_type": "stream",
     "text": [
      "Optimization terminated successfully.\n",
      "         Current function value: 0.549709\n",
      "         Iterations 6\n",
      "This is telling me that 1 point in KD Spread, it increases my likelhood of winning by 24%.\n"
     ]
    },
    {
     "data": {
      "text/html": [
       "<table class=\"simpletable\">\n",
       "<caption>Logit Regression Results</caption>\n",
       "<tr>\n",
       "  <th>Dep. Variable:</th>  <td>Win_Loss_Binary</td> <th>  No. Observations:  </th>  <td>  1450</td>  \n",
       "</tr>\n",
       "<tr>\n",
       "  <th>Model:</th>               <td>Logit</td>      <th>  Df Residuals:      </th>  <td>  1448</td>  \n",
       "</tr>\n",
       "<tr>\n",
       "  <th>Method:</th>               <td>MLE</td>       <th>  Df Model:          </th>  <td>     1</td>  \n",
       "</tr>\n",
       "<tr>\n",
       "  <th>Date:</th>          <td>Wed, 02 Nov 2016</td> <th>  Pseudo R-squ.:     </th>  <td>0.2068</td>  \n",
       "</tr>\n",
       "<tr>\n",
       "  <th>Time:</th>              <td>10:14:44</td>     <th>  Log-Likelihood:    </th> <td> -797.08</td> \n",
       "</tr>\n",
       "<tr>\n",
       "  <th>converged:</th>           <td>True</td>       <th>  LL-Null:           </th> <td> -1004.9</td> \n",
       "</tr>\n",
       "<tr>\n",
       "  <th> </th>                      <td> </td>        <th>  LLR p-value:       </th> <td>2.243e-92</td>\n",
       "</tr>\n",
       "</table>\n",
       "<table class=\"simpletable\">\n",
       "<tr>\n",
       "      <td></td>         <th>coef</th>     <th>std err</th>      <th>z</th>      <th>P>|z|</th> <th>[95.0% Conf. Int.]</th> \n",
       "</tr>\n",
       "<tr>\n",
       "  <th>Intercept</th> <td>   -0.2037</td> <td>    0.062</td> <td>   -3.308</td> <td> 0.001</td> <td>   -0.324    -0.083</td>\n",
       "</tr>\n",
       "<tr>\n",
       "  <th>KD_Spread</th> <td>    0.2629</td> <td>    0.016</td> <td>   16.859</td> <td> 0.000</td> <td>    0.232     0.294</td>\n",
       "</tr>\n",
       "</table>"
      ],
      "text/plain": [
       "<class 'statsmodels.iolib.summary.Summary'>\n",
       "\"\"\"\n",
       "                           Logit Regression Results                           \n",
       "==============================================================================\n",
       "Dep. Variable:        Win_Loss_Binary   No. Observations:                 1450\n",
       "Model:                          Logit   Df Residuals:                     1448\n",
       "Method:                           MLE   Df Model:                            1\n",
       "Date:                Wed, 02 Nov 2016   Pseudo R-squ.:                  0.2068\n",
       "Time:                        10:14:44   Log-Likelihood:                -797.08\n",
       "converged:                       True   LL-Null:                       -1004.9\n",
       "                                        LLR p-value:                 2.243e-92\n",
       "==============================================================================\n",
       "                 coef    std err          z      P>|z|      [95.0% Conf. Int.]\n",
       "------------------------------------------------------------------------------\n",
       "Intercept     -0.2037      0.062     -3.308      0.001        -0.324    -0.083\n",
       "KD_Spread      0.2629      0.016     16.859      0.000         0.232     0.294\n",
       "==============================================================================\n",
       "\"\"\""
      ]
     },
     "execution_count": 19,
     "metadata": {},
     "output_type": "execute_result"
    }
   ],
   "source": [
    "## YOUR CODE HERE\n",
    "\n",
    "import statsmodels.formula.api as sm\n",
    "\n",
    "model = sm.logit(\"Win_Loss_Binary ~ KD_Spread\",data = master_df).fit()\n",
    "\n",
    "print \"This is telling me that 1 point in KD Spread, it increases my likelhood of winning by 24%.\"\n",
    "\n",
    "model.summary()\n"
   ]
  },
  {
   "cell_type": "markdown",
   "metadata": {
    "button": false,
    "deletable": true,
    "focus": false,
    "id": "0ef04f32-419c-4bf2-baf7-48201f03df89",
    "new_sheet": false,
    "run_control": {
     "read_only": false
    }
   },
   "source": [
    "#### Create a few new variables in your dataframe to represent interesting aspects of your features.\n",
    "- For example, create a feature that represents whether 'Senior' is in the title when dealing with employment statistics\n",
    "- Then build a new Logistic Regression model with these features. Do they add any value? \n"
   ]
  },
  {
   "cell_type": "code",
   "execution_count": 20,
   "metadata": {
    "button": false,
    "collapsed": false,
    "deletable": true,
    "focus": false,
    "id": "068dc1cf-7fd7-4f27-a1f1-7f0a5a221d29",
    "new_sheet": false,
    "run_control": {
     "read_only": false
    }
   },
   "outputs": [],
   "source": [
    "# Creating 2 new columns for KD Spread and KD Ratio.\n",
    "master_df.insert(5, 'KD_Ratio', master_df.Kills / master_df.Deaths, allow_duplicates=False)\n",
    "master_df.insert(6, 'KDA_Ratio', (master_df.Kills + master_df.Assists) / master_df.Deaths)"
   ]
  },
  {
   "cell_type": "code",
   "execution_count": 23,
   "metadata": {
    "collapsed": false
   },
   "outputs": [
    {
     "data": {
      "text/html": [
       "<div>\n",
       "<table border=\"1\" class=\"dataframe\">\n",
       "  <thead>\n",
       "    <tr style=\"text-align: right;\">\n",
       "      <th></th>\n",
       "      <th>id</th>\n",
       "      <th>Map_Name</th>\n",
       "      <th>Assists</th>\n",
       "      <th>Deaths</th>\n",
       "      <th>KD_Spread</th>\n",
       "      <th>KD_Ratio</th>\n",
       "      <th>KDA_Ratio</th>\n",
       "      <th>Gamertag</th>\n",
       "      <th>Individual_Rank</th>\n",
       "      <th>Kills</th>\n",
       "      <th>...</th>\n",
       "      <th>Match_ID</th>\n",
       "      <th>Score_1</th>\n",
       "      <th>Score_2</th>\n",
       "      <th>Team_ID</th>\n",
       "      <th>Win_Loss</th>\n",
       "      <th>Win_Loss_Binary</th>\n",
       "      <th>Assists_&gt;_Mean</th>\n",
       "      <th>Deaths_&lt;_Mean</th>\n",
       "      <th>Kills_&gt;_Mean</th>\n",
       "      <th>KD_Spread_&gt;_Mean</th>\n",
       "    </tr>\n",
       "  </thead>\n",
       "  <tbody>\n",
       "    <tr>\n",
       "      <th>0</th>\n",
       "      <td>cd844200-f206-11e4-9393-24be05e24f7e</td>\n",
       "      <td>Eden</td>\n",
       "      <td>3</td>\n",
       "      <td>13</td>\n",
       "      <td>0.0</td>\n",
       "      <td>1.000000</td>\n",
       "      <td>1.230769</td>\n",
       "      <td>madballa55</td>\n",
       "      <td>5</td>\n",
       "      <td>13</td>\n",
       "      <td>...</td>\n",
       "      <td>a8d97d82-56b4-4cae-9063-8efbf6ab4959</td>\n",
       "      <td>50</td>\n",
       "      <td>47</td>\n",
       "      <td>0</td>\n",
       "      <td>1</td>\n",
       "      <td>0.0</td>\n",
       "      <td>0.0</td>\n",
       "      <td>0.0</td>\n",
       "      <td>1.0</td>\n",
       "      <td>0.0</td>\n",
       "    </tr>\n",
       "    <tr>\n",
       "      <th>1</th>\n",
       "      <td>cd844200-f206-11e4-9393-24be05e24f7e</td>\n",
       "      <td>Eden</td>\n",
       "      <td>9</td>\n",
       "      <td>7</td>\n",
       "      <td>0.0</td>\n",
       "      <td>1.000000</td>\n",
       "      <td>2.285714</td>\n",
       "      <td>madballa55</td>\n",
       "      <td>4</td>\n",
       "      <td>7</td>\n",
       "      <td>...</td>\n",
       "      <td>37fe79e7-befe-4c9b-acee-c05eb6562f8b</td>\n",
       "      <td>38</td>\n",
       "      <td>50</td>\n",
       "      <td>1</td>\n",
       "      <td>3</td>\n",
       "      <td>1.0</td>\n",
       "      <td>1.0</td>\n",
       "      <td>1.0</td>\n",
       "      <td>0.0</td>\n",
       "      <td>0.0</td>\n",
       "    </tr>\n",
       "    <tr>\n",
       "      <th>2</th>\n",
       "      <td>cd844200-f206-11e4-9393-24be05e24f7e</td>\n",
       "      <td>Eden</td>\n",
       "      <td>7</td>\n",
       "      <td>9</td>\n",
       "      <td>6.0</td>\n",
       "      <td>1.666667</td>\n",
       "      <td>2.444444</td>\n",
       "      <td>madballa55</td>\n",
       "      <td>3</td>\n",
       "      <td>15</td>\n",
       "      <td>...</td>\n",
       "      <td>1d18f01d-e95c-41d5-be96-602ade5082b2</td>\n",
       "      <td>50</td>\n",
       "      <td>35</td>\n",
       "      <td>0</td>\n",
       "      <td>3</td>\n",
       "      <td>1.0</td>\n",
       "      <td>1.0</td>\n",
       "      <td>1.0</td>\n",
       "      <td>1.0</td>\n",
       "      <td>1.0</td>\n",
       "    </tr>\n",
       "    <tr>\n",
       "      <th>3</th>\n",
       "      <td>cc040aa1-f206-11e4-a3e0-24be05e24f7e</td>\n",
       "      <td>Fathom</td>\n",
       "      <td>6</td>\n",
       "      <td>13</td>\n",
       "      <td>-1.0</td>\n",
       "      <td>0.923077</td>\n",
       "      <td>1.384615</td>\n",
       "      <td>madballa55</td>\n",
       "      <td>3</td>\n",
       "      <td>12</td>\n",
       "      <td>...</td>\n",
       "      <td>c6410af3-3f5b-4b5c-8955-695800db8730</td>\n",
       "      <td>49</td>\n",
       "      <td>50</td>\n",
       "      <td>0</td>\n",
       "      <td>3</td>\n",
       "      <td>1.0</td>\n",
       "      <td>1.0</td>\n",
       "      <td>0.0</td>\n",
       "      <td>1.0</td>\n",
       "      <td>0.0</td>\n",
       "    </tr>\n",
       "    <tr>\n",
       "      <th>4</th>\n",
       "      <td>cc040aa1-f206-11e4-a3e0-24be05e24f7e</td>\n",
       "      <td>Fathom</td>\n",
       "      <td>7</td>\n",
       "      <td>12</td>\n",
       "      <td>5.0</td>\n",
       "      <td>1.416667</td>\n",
       "      <td>2.000000</td>\n",
       "      <td>madballa55</td>\n",
       "      <td>1</td>\n",
       "      <td>17</td>\n",
       "      <td>...</td>\n",
       "      <td>af4b244f-010a-4293-8a86-f65a1499ffe8</td>\n",
       "      <td>50</td>\n",
       "      <td>45</td>\n",
       "      <td>0</td>\n",
       "      <td>3</td>\n",
       "      <td>1.0</td>\n",
       "      <td>1.0</td>\n",
       "      <td>0.0</td>\n",
       "      <td>1.0</td>\n",
       "      <td>1.0</td>\n",
       "    </tr>\n",
       "  </tbody>\n",
       "</table>\n",
       "<p>5 rows × 23 columns</p>\n",
       "</div>"
      ],
      "text/plain": [
       "                                     id Map_Name  Assists  Deaths  KD_Spread  \\\n",
       "0  cd844200-f206-11e4-9393-24be05e24f7e     Eden        3      13        0.0   \n",
       "1  cd844200-f206-11e4-9393-24be05e24f7e     Eden        9       7        0.0   \n",
       "2  cd844200-f206-11e4-9393-24be05e24f7e     Eden        7       9        6.0   \n",
       "3  cc040aa1-f206-11e4-a3e0-24be05e24f7e   Fathom        6      13       -1.0   \n",
       "4  cc040aa1-f206-11e4-a3e0-24be05e24f7e   Fathom        7      12        5.0   \n",
       "\n",
       "   KD_Ratio  KDA_Ratio    Gamertag  Individual_Rank  Kills        ...         \\\n",
       "0  1.000000   1.230769  madballa55                5     13        ...          \n",
       "1  1.000000   2.285714  madballa55                4      7        ...          \n",
       "2  1.666667   2.444444  madballa55                3     15        ...          \n",
       "3  0.923077   1.384615  madballa55                3     12        ...          \n",
       "4  1.416667   2.000000  madballa55                1     17        ...          \n",
       "\n",
       "                               Match_ID Score_1 Score_2 Team_ID  Win_Loss  \\\n",
       "0  a8d97d82-56b4-4cae-9063-8efbf6ab4959      50      47       0         1   \n",
       "1  37fe79e7-befe-4c9b-acee-c05eb6562f8b      38      50       1         3   \n",
       "2  1d18f01d-e95c-41d5-be96-602ade5082b2      50      35       0         3   \n",
       "3  c6410af3-3f5b-4b5c-8955-695800db8730      49      50       0         3   \n",
       "4  af4b244f-010a-4293-8a86-f65a1499ffe8      50      45       0         3   \n",
       "\n",
       "   Win_Loss_Binary  Assists_>_Mean  Deaths_<_Mean  Kills_>_Mean  \\\n",
       "0              0.0             0.0            0.0           1.0   \n",
       "1              1.0             1.0            1.0           0.0   \n",
       "2              1.0             1.0            1.0           1.0   \n",
       "3              1.0             1.0            0.0           1.0   \n",
       "4              1.0             1.0            0.0           1.0   \n",
       "\n",
       "   KD_Spread_>_Mean  \n",
       "0               0.0  \n",
       "1               0.0  \n",
       "2               1.0  \n",
       "3               0.0  \n",
       "4               1.0  \n",
       "\n",
       "[5 rows x 23 columns]"
      ]
     },
     "execution_count": 23,
     "metadata": {},
     "output_type": "execute_result"
    }
   ],
   "source": [
    "master_df.KD_Spread = master_df.KD_Spread.astype(float)\n",
    "master_df.KD_Ratio = master_df.KD_Ratio.astype(float)\n",
    "master_df.KDA_Ratio = master_df.KDA_Ratio.astype(float)\n",
    "\n",
    "master_df.head()\n"
   ]
  },
  {
   "cell_type": "markdown",
   "metadata": {
    "button": false,
    "deletable": true,
    "focus": false,
    "id": "9c9274ef-c9f5-4d56-b286-ecc8709eff9f",
    "new_sheet": false,
    "run_control": {
     "read_only": false
    }
   },
   "source": [
    "#### Rebuild this model with scikit-learn.\n",
    "- You can either create the dummy features manually or use the `dmatrix` function from `patsy`\n",
    "- Remember to scale the feature variables as well!\n"
   ]
  },
  {
   "cell_type": "code",
   "execution_count": 24,
   "metadata": {
    "collapsed": false
   },
   "outputs": [
    {
     "name": "stdout",
     "output_type": "stream",
     "text": [
      "['id', 'Map_Name', 'Assists', 'Deaths', 'KD_Spread', 'KD_Ratio', 'KDA_Ratio', 'Gamertag', 'Individual_Rank', 'Kills', 'Map_ID', 'Match_Date', 'Match_Duration', 'Match_ID', 'Score_1', 'Score_2', 'Team_ID', 'Win_Loss', 'Win_Loss_Binary', 'Assists_>_Mean', 'Deaths_<_Mean', 'Kills_>_Mean', 'KD_Spread_>_Mean', u'Alpine', u'Coliseum', u'Eden', u'Empire', u'Fathom', u'Glacier', u'Mercy', u'Overgrowth', u'Parallax', u'Plaza', u'Regret', u'Riptide\\xa0', u'Slag', u'Stasis', u'The Rig', u'Torque', u'Truth', u'Tyrant']\n"
     ]
    }
   ],
   "source": [
    "# Create dummy variables for MAP Name\n",
    "\n",
    "master_df = pd.concat([master_df, pd.get_dummies(master_df['Map_Name'])], axis=1)\n",
    "\n",
    "master_df.head()\n",
    "\n",
    "print list(master_df.columns.values)"
   ]
  },
  {
   "cell_type": "code",
   "execution_count": 25,
   "metadata": {
    "collapsed": false
   },
   "outputs": [],
   "source": [
    "# Assign input and output data\n",
    "from sklearn.linear_model import LogisticRegression\n",
    "\n",
    "X = master_df[['Assists_>_Mean','Kills_>_Mean','Deaths_<_Mean','KD_Spread_>_Mean']]\n",
    "#X = master_df[['Assists','Kills','Deaths','KD_Spread']]\n",
    "\n",
    "y = master_df['Win_Loss_Binary']\n"
   ]
  },
  {
   "cell_type": "code",
   "execution_count": 26,
   "metadata": {
    "collapsed": false
   },
   "outputs": [
    {
     "name": "stdout",
     "output_type": "stream",
     "text": [
      "Fitting 5 folds for each of 24 candidates, totalling 120 fits\n"
     ]
    },
    {
     "name": "stderr",
     "output_type": "stream",
     "text": [
      "/Users/Madballa55/anaconda/lib/python2.7/site-packages/sklearn/metrics/classification.py:1113: UndefinedMetricWarning: F-score is ill-defined and being set to 0.0 in labels with no predicted samples.\n",
      "  'precision', 'predicted', average, warn_for)\n",
      "[Parallel(n_jobs=1)]: Done 120 out of 120 | elapsed:    1.6s finished\n"
     ]
    },
    {
     "data": {
      "text/plain": [
       "{'C': 0.1, 'penalty': 'l2'}"
      ]
     },
     "execution_count": 26,
     "metadata": {},
     "output_type": "execute_result"
    }
   ],
   "source": [
    "# Set model to Logistic Regression and Get best C Value + Regularization Model\n",
    "model = LogisticRegression()\n",
    "C_vals = [0.0001, 0.001, 0.01, 0.1, 0.5, 0.75, 1.0, 2.5, 5.0, 10.0, 100.0, 1000.0]\n",
    "penalties = ['l1','l2']\n",
    "\n",
    "gs = GridSearchCV(model, {'penalty':penalties, 'C':C_vals}, verbose=True, cv=5, scoring='f1_macro')\n",
    "gs.fit(X, y)\n",
    "\n",
    "gs.best_params_\n"
   ]
  },
  {
   "cell_type": "code",
   "execution_count": 28,
   "metadata": {
    "button": false,
    "collapsed": false,
    "deletable": true,
    "focus": false,
    "id": "b76f65cd-cd3a-4e91-af55-12880be7b057",
    "new_sheet": false,
    "run_control": {
     "read_only": false
    }
   },
   "outputs": [
    {
     "name": "stdout",
     "output_type": "stream",
     "text": [
      "[[ 1.01692077  0.13851463  0.94672339  1.38543144]]\n",
      "Finding: It is more important to have above average assists than kills or KD spread \n"
     ]
    }
   ],
   "source": [
    "from sklearn.linear_model import LogisticRegression\n",
    "\n",
    "# Train, Test, Split\n",
    "X_train, X_test, Y_train, Y_test = train_test_split(X, y, test_size=0.80, random_state=77)\n",
    "\n",
    "# Create the Model\n",
    "model = LogisticRegression(C=.1, penalty='l2', solver='liblinear')\n",
    "model.fit(X, y)\n",
    "\n",
    "\n",
    "\n",
    "# Predict Outputs\n",
    "predictions = model.predict(X)\n",
    "\n",
    "print model.coef_\n",
    "\n",
    "print 'Finding: It is more important to have above average assists than kills or KD spread '"
   ]
  },
  {
   "cell_type": "markdown",
   "metadata": {
    "button": false,
    "deletable": true,
    "focus": false,
    "id": "9367beff-72ba-4768-a0ba-a50b335de61d",
    "new_sheet": false,
    "run_control": {
     "read_only": false
    }
   },
   "source": [
    "#### Use cross-validation in scikit-learn to evaluate the model above. \n",
    "- Evaluate the accuracy, AUC, precision and recall of the model. \n",
    "- Discuss the differences and explain when you want a high-recall or a high-precision model in this scenario."
   ]
  },
  {
   "cell_type": "code",
   "execution_count": 29,
   "metadata": {
    "button": false,
    "collapsed": false,
    "deletable": true,
    "focus": false,
    "id": "269b9e7c-60b5-4a06-8255-881d7395bc1b",
    "new_sheet": false,
    "run_control": {
     "read_only": false
    }
   },
   "outputs": [
    {
     "name": "stdout",
     "output_type": "stream",
     "text": [
      "Cross_Val_Score:  [ 0.75206612  0.75206612  0.75726141]\n",
      "\n",
      "\n",
      "             precision    recall  f1-score   support\n",
      "\n",
      "        0.0       0.75      0.81      0.78       737\n",
      "        1.0       0.79      0.73      0.76       713\n",
      "\n",
      "avg / total       0.77      0.77      0.77      1450\n",
      "\n",
      "      Loss  Win\n",
      "Loss   596  141\n",
      "Win    195  518\n"
     ]
    }
   ],
   "source": [
    "# Cross_Val_Score\n",
    "from sklearn.model_selection import cross_val_score\n",
    "print 'Cross_Val_Score: ', cross_val_score(model, X, y)\n",
    "print '\\n'\n",
    "\n",
    "print classification_report(y, predictions)\n",
    "print pd.DataFrame(confusion_matrix(y, predictions), index = ['Loss', 'Win'], columns = ['Loss', 'Win'])\n"
   ]
  },
  {
   "cell_type": "code",
   "execution_count": 30,
   "metadata": {
    "collapsed": false
   },
   "outputs": [
    {
     "data": {
      "image/png": "[encoded data removed]",
      "text/plain": [
       "<matplotlib.figure.Figure at 0x116cf2790>"
      ]
     },
     "metadata": {},
     "output_type": "display_data"
    }
   ],
   "source": [
    "# ROC Curve\n",
    "from sklearn.metrics import roc_curve, auc, classification_report, confusion_matrix\n",
    "import matplotlib.pyplot as plt\n",
    "\n",
    "\n",
    "FPR, TPR, thresholds = roc_curve(y, predictions)\n",
    "\n",
    "ROC_AUC = auc(FPR, TPR)\n",
    "\n",
    "plt.figure(figsize=[9,7])\n",
    "plt.plot(FPR, TPR, label='ROC curve (area = %0.2f)' % ROC_AUC, linewidth=4)\n",
    "\n",
    "plt.plot([0, 1], [0, 1], 'k--', linewidth=4)\n",
    "plt.xlim([0.0, 1.0])\n",
    "plt.ylim([0.0, 1.05])\n",
    "plt.xlabel('False Positive Rate', fontsize=14)\n",
    "plt.ylabel('True Positive Rate', fontsize=14)\n",
    "plt.title('Receiver operating characteristic for job recommendation', fontsize=14)\n",
    "plt.legend(loc=\"lower right\")\n",
    "plt.show()"
   ]
  },
  {
   "cell_type": "markdown",
   "metadata": {
    "button": false,
    "deletable": true,
    "focus": false,
    "id": "8c22664b-92e4-4fc2-b7ac-fbac865845d3",
    "new_sheet": false,
    "run_control": {
     "read_only": false
    }
   },
   "source": [
    "#### Compare L1 and L2 regularization for this logistic regression model. What effect does this have on the coefficients learned?"
   ]
  },
  {
   "cell_type": "code",
   "execution_count": 470,
   "metadata": {
    "button": false,
    "collapsed": false,
    "deletable": true,
    "focus": false,
    "id": "172fd952-5012-4630-81f4-1206da6eb820",
    "new_sheet": false,
    "run_control": {
     "read_only": false
    }
   },
   "outputs": [
    {
     "data": {
      "text/plain": [
       "array([[ 0.,  0.,  0.,  0.]])"
      ]
     },
     "execution_count": 470,
     "metadata": {},
     "output_type": "execute_result"
    }
   ],
   "source": [
    "## YOUR CODE HERE\n",
    "# L1\n",
    "\n",
    "from sklearn.linear_model import LogisticRegression\n",
    "\n",
    "# Create the Model\n",
    "model = LogisticRegression(C=.0001, penalty='l1', solver='liblinear')\n",
    "model.fit(X, y)\n",
    "\n",
    "# Predict Outputs\n",
    "predictions = model.predict(X)\n",
    "\n",
    "model.coef_\n",
    "\n"
   ]
  },
  {
   "cell_type": "code",
   "execution_count": 471,
   "metadata": {
    "button": false,
    "collapsed": false,
    "deletable": true,
    "focus": false,
    "id": "56cc8854-d722-411d-a6c7-e86310710f67",
    "new_sheet": false,
    "run_control": {
     "read_only": false
    }
   },
   "outputs": [
    {
     "name": "stdout",
     "output_type": "stream",
     "text": [
      "Cross_Val_Score:  [ 0.44008264  0.44008264  0.43983402]\n",
      "\n",
      "\n",
      "             precision    recall  f1-score   support\n",
      "\n",
      "        0.0       0.44      1.00      0.61       638\n",
      "        1.0       0.00      0.00      0.00       812\n",
      "\n",
      "avg / total       0.19      0.44      0.27      1450\n",
      "\n",
      "      Loss  Win\n",
      "Loss   638    0\n",
      "Win    812    0\n"
     ]
    }
   ],
   "source": [
    "# Cross_Val_Score\n",
    "from sklearn.model_selection import cross_val_score\n",
    "print 'Cross_Val_Score: ', cross_val_score(model, X, y)\n",
    "print '\\n'\n",
    "\n",
    "print(classification_report(y, predictions))\n",
    "print pd.DataFrame(confusion_matrix(y, predictions), index = ['Loss', 'Win'], columns = ['Loss', 'Win'])"
   ]
  },
  {
   "cell_type": "markdown",
   "metadata": {
    "button": false,
    "deletable": true,
    "focus": false,
    "id": "fead9b5b-7316-405d-87fd-e144dff0cbeb",
    "new_sheet": false,
    "run_control": {
     "read_only": false
    }
   },
   "source": []
  },
  {
   "cell_type": "markdown",
   "metadata": {
    "button": false,
    "deletable": true,
    "focus": false,
    "id": "12d5edeb-a272-43a0-9977-d951f12fedfb",
    "new_sheet": false,
    "run_control": {
     "read_only": false
    }
   },
   "source": []
  },
  {
   "cell_type": "markdown",
   "metadata": {
    "button": false,
    "deletable": true,
    "focus": false,
    "id": "3be94357-e551-4094-b784-2df039216d33",
    "new_sheet": false,
    "run_control": {
     "read_only": false
    }
   },
   "source": [
    "### BONUS "
   ]
  },
  {
   "cell_type": "markdown",
   "metadata": {
    "button": false,
    "deletable": true,
    "focus": false,
    "id": "db045898-1d2d-4af2-8e79-437c4c7546b4",
    "new_sheet": false,
    "run_control": {
     "read_only": false
    }
   },
   "source": [
    "#### Bonus: Use Count Vectorizer from scikit-learn to create features from text summaries if they exist. \n",
    "- Examine using count or binary features in the model\n",
    "- Re-evaluate the logistic regression model using these. Does this improve the model performance? \n",
    "- What text features are the most valuable? "
   ]
  },
  {
   "cell_type": "code",
   "execution_count": 23,
   "metadata": {
    "button": false,
    "collapsed": false,
    "deletable": true,
    "focus": false,
    "id": "4239e458-28bd-4675-8db3-c1d9c02b9854",
    "new_sheet": false,
    "run_control": {
     "read_only": false
    }
   },
   "outputs": [],
   "source": [
    "## YOUR CODE HERE"
   ]
  },
  {
   "cell_type": "code",
   "execution_count": 24,
   "metadata": {
    "button": false,
    "collapsed": false,
    "deletable": true,
    "focus": false,
    "id": "fec80936-37bc-4922-89bd-b5d615566c9c",
    "new_sheet": false,
    "run_control": {
     "read_only": false
    }
   },
   "outputs": [],
   "source": [
    "## YOUR CODE HERE"
   ]
  },
  {
   "cell_type": "markdown",
   "metadata": {
    "button": false,
    "deletable": true,
    "focus": false,
    "id": "d42b9fd8-39d5-416a-b40b-7410e6396c11",
    "new_sheet": false,
    "run_control": {
     "read_only": false
    }
   },
   "source": [
    "#### Re-test L1 and L2 regularization. You can use LogisticRegressionCV to find the optimal reguarlization parameters. \n",
    "- Re-test what text features are most valuable.  \n",
    "- How do L1 and L2 change the coefficients?"
   ]
  },
  {
   "cell_type": "code",
   "execution_count": 25,
   "metadata": {
    "button": false,
    "collapsed": false,
    "deletable": true,
    "focus": false,
    "id": "7570e237-c8cc-4e26-b569-7aee10627e79",
    "new_sheet": false,
    "run_control": {
     "read_only": false
    }
   },
   "outputs": [],
   "source": [
    "## YOUR CODE HERE"
   ]
  },
  {
   "cell_type": "code",
   "execution_count": null,
   "metadata": {
    "button": false,
    "collapsed": true,
    "deletable": true,
    "focus": false,
    "id": "e3a0c83d-e3b8-4bed-b864-7e795b34a3d4",
    "new_sheet": false,
    "run_control": {
     "read_only": false
    }
   },
   "outputs": [],
   "source": []
  }
 ],
 "metadata": {
  "anaconda-cloud": {},
  "kernelspec": {
   "display_name": "Python [default]",
   "language": "python",
   "name": "python2"
  },
  "language_info": {
   "codemirror_mode": {
    "name": "ipython",
    "version": 2
   },
   "file_extension": ".py",
   "mimetype": "text/x-python",
   "name": "python",
   "nbconvert_exporter": "python",
   "pygments_lexer": "ipython2",
   "version": "2.7.12"
  }
 },
 "nbformat": 4,
 "nbformat_minor": 0
}
